{
 "cells": [
  {
   "cell_type": "code",
   "execution_count": null,
   "id": "e36a5265-0293-4326-995e-301c1520e2c2",
   "metadata": {},
   "outputs": [
    {
     "name": "stdout",
     "output_type": "stream",
     "text": [
      "\n",
      "        ====== Car Rental Shop =======\n",
      "        1. Display available cars\n",
      "        2. Request a car on hourly basis $5\n",
      "        3. Request a car on daily basis $20\n",
      "        4. Request a car on weekly basis $60\n",
      "        5. Return a car\n",
      "        6. Exit\n",
      "        \n"
     ]
    },
    {
     "name": "stdin",
     "output_type": "stream",
     "text": [
      "Enter choice:  1\n"
     ]
    },
    {
     "name": "stdout",
     "output_type": "stream",
     "text": [
      "We have currently 100 cars available to rent.\n",
      "\n",
      "        ====== Car Rental Shop =======\n",
      "        1. Display available cars\n",
      "        2. Request a car on hourly basis $5\n",
      "        3. Request a car on daily basis $20\n",
      "        4. Request a car on weekly basis $60\n",
      "        5. Return a car\n",
      "        6. Exit\n",
      "        \n"
     ]
    },
    {
     "name": "stdin",
     "output_type": "stream",
     "text": [
      "Enter choice:  2\n",
      "How many cars would you like to rent? 1\n"
     ]
    },
    {
     "name": "stdout",
     "output_type": "stream",
     "text": [
      "Rented car(s) at 2024-06-28 17:22:50.840404\n",
      "\n",
      "        ====== Car Rental Shop =======\n",
      "        1. Display available cars\n",
      "        2. Request a car on hourly basis $5\n",
      "        3. Request a car on daily basis $20\n",
      "        4. Request a car on weekly basis $60\n",
      "        5. Return a car\n",
      "        6. Exit\n",
      "        \n"
     ]
    },
    {
     "name": "stdin",
     "output_type": "stream",
     "text": [
      "Enter choice:  5\n"
     ]
    },
    {
     "name": "stdout",
     "output_type": "stream",
     "text": [
      "Your bill is $5\n",
      "\n",
      "        ====== Car Rental Shop =======\n",
      "        1. Display available cars\n",
      "        2. Request a car on hourly basis $5\n",
      "        3. Request a car on daily basis $20\n",
      "        4. Request a car on weekly basis $60\n",
      "        5. Return a car\n",
      "        6. Exit\n",
      "        \n"
     ]
    }
   ],
   "source": [
    "from car_rental import CarRental, Customer\n",
    "\n",
    "def main():\n",
    "    rental_shop = CarRental(100)  # Initialize the car rental shop with 100 cars\n",
    "    customer = Customer()\n",
    "    \n",
    "    while True:\n",
    "        print(\"\"\"\n",
    "        ====== Car Rental Shop =======\n",
    "        1. Display available cars\n",
    "        2. Request a car on hourly basis $5\n",
    "        3. Request a car on daily basis $20\n",
    "        4. Request a car on weekly basis $60\n",
    "        5. Return a car\n",
    "        6. Exit\n",
    "        \"\"\")\n",
    "        \n",
    "        choice = input(\"Enter choice: \")\n",
    "        \n",
    "        try:\n",
    "            choice = int(choice)\n",
    "        except ValueError:\n",
    "            print(\"Please enter a valid choice.\")\n",
    "            continue\n",
    "        \n",
    "        if choice == 1:\n",
    "            print(rental_shop.display_stock())\n",
    "        \n",
    "        elif choice == 2:\n",
    "            customer.rental_time = rental_shop.rent_car_hourly(customer.request_car())\n",
    "            customer.rental_basis = 1\n",
    "            print(f\"Rented car(s) at {customer.rental_time}\")\n",
    "        \n",
    "        elif choice == 3:\n",
    "            customer.rental_time = rental_shop.rent_car_daily(customer.request_car())\n",
    "            customer.rental_basis = 2\n",
    "            print(f\"Rented car(s) at {customer.rental_time}\")\n",
    "        \n",
    "        elif choice == 4:\n",
    "            customer.rental_time = rental_shop.rent_car_weekly(customer.request_car())\n",
    "            customer.rental_basis = 3\n",
    "            print(f\"Rented car(s) at {customer.rental_time}\")\n",
    "        \n",
    "        elif choice == 5:\n",
    "            bill = rental_shop.return_car(customer.return_car())\n",
    "            print(f\"Your bill is ${bill}\")\n",
    "            customer.rental_basis, customer.rental_time, customer.cars = 0, 0, 0\n",
    "        \n",
    "        elif choice == 6:\n",
    "            break\n",
    "        \n",
    "        else:\n",
    "            print(\"Invalid input. Please enter a number between 1 and 6.\")\n",
    "\n",
    "if __name__ == \"__main__\":\n",
    "    main()\n"
   ]
  },
  {
   "cell_type": "code",
   "execution_count": null,
   "id": "546bee88-29a3-4b0d-b062-a45d2b7323d5",
   "metadata": {},
   "outputs": [],
   "source": []
  }
 ],
 "metadata": {
  "kernelspec": {
   "display_name": "Python 3 (ipykernel)",
   "language": "python",
   "name": "python3"
  },
  "language_info": {
   "codemirror_mode": {
    "name": "ipython",
    "version": 3
   },
   "file_extension": ".py",
   "mimetype": "text/x-python",
   "name": "python",
   "nbconvert_exporter": "python",
   "pygments_lexer": "ipython3",
   "version": "3.11.7"
  }
 },
 "nbformat": 4,
 "nbformat_minor": 5
}
